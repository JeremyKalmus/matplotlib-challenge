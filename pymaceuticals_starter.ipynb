{
 "cells": [
  {
   "cell_type": "markdown",
   "metadata": {},
   "source": [
    "## Observations and Insights "
   ]
  },
  {
   "cell_type": "markdown",
   "metadata": {},
   "source": []
  },
  {
   "cell_type": "code",
   "execution_count": 84,
   "metadata": {},
   "outputs": [],
   "source": [
    "# Dependencies and Setup\n",
    "import matplotlib.pyplot as plt\n",
    "import pandas as pd\n",
    "import scipy.stats as st\n",
    "\n",
    "# Study data files\n",
    "mouse_metadata_path = \"data/Mouse_metadata.csv\"\n",
    "study_results_path = \"data/Study_results.csv\"\n",
    "\n",
    "# Read the mouse data and the study results\n",
    "mouse_metadata = pd.read_csv(mouse_metadata_path)\n",
    "study_results = pd.read_csv(study_results_path)"
   ]
  },
  {
   "cell_type": "code",
   "execution_count": 85,
   "metadata": {},
   "outputs": [],
   "source": [
    "# Combine the data into a single dataset\n",
    "combined_data = pd.merge(mouse_metadata, study_results, on='Mouse ID', how='outer')\n"
   ]
  },
  {
   "cell_type": "code",
   "execution_count": 86,
   "metadata": {},
   "outputs": [
    {
     "output_type": "execute_result",
     "data": {
      "text/plain": [
       "  Mouse ID Drug Regimen   Sex  Age_months  Weight (g)  Timepoint  \\\n",
       "0     k403     Ramicane  Male          21          16          0   \n",
       "1     k403     Ramicane  Male          21          16          5   \n",
       "2     k403     Ramicane  Male          21          16         10   \n",
       "3     k403     Ramicane  Male          21          16         15   \n",
       "4     k403     Ramicane  Male          21          16         20   \n",
       "\n",
       "   Tumor Volume (mm3)  Metastatic Sites  \n",
       "0           45.000000                 0  \n",
       "1           38.825898                 0  \n",
       "2           35.014271                 1  \n",
       "3           34.223992                 1  \n",
       "4           32.997729                 1  "
      ],
      "text/html": "<div>\n<style scoped>\n    .dataframe tbody tr th:only-of-type {\n        vertical-align: middle;\n    }\n\n    .dataframe tbody tr th {\n        vertical-align: top;\n    }\n\n    .dataframe thead th {\n        text-align: right;\n    }\n</style>\n<table border=\"1\" class=\"dataframe\">\n  <thead>\n    <tr style=\"text-align: right;\">\n      <th></th>\n      <th>Mouse ID</th>\n      <th>Drug Regimen</th>\n      <th>Sex</th>\n      <th>Age_months</th>\n      <th>Weight (g)</th>\n      <th>Timepoint</th>\n      <th>Tumor Volume (mm3)</th>\n      <th>Metastatic Sites</th>\n    </tr>\n  </thead>\n  <tbody>\n    <tr>\n      <th>0</th>\n      <td>k403</td>\n      <td>Ramicane</td>\n      <td>Male</td>\n      <td>21</td>\n      <td>16</td>\n      <td>0</td>\n      <td>45.000000</td>\n      <td>0</td>\n    </tr>\n    <tr>\n      <th>1</th>\n      <td>k403</td>\n      <td>Ramicane</td>\n      <td>Male</td>\n      <td>21</td>\n      <td>16</td>\n      <td>5</td>\n      <td>38.825898</td>\n      <td>0</td>\n    </tr>\n    <tr>\n      <th>2</th>\n      <td>k403</td>\n      <td>Ramicane</td>\n      <td>Male</td>\n      <td>21</td>\n      <td>16</td>\n      <td>10</td>\n      <td>35.014271</td>\n      <td>1</td>\n    </tr>\n    <tr>\n      <th>3</th>\n      <td>k403</td>\n      <td>Ramicane</td>\n      <td>Male</td>\n      <td>21</td>\n      <td>16</td>\n      <td>15</td>\n      <td>34.223992</td>\n      <td>1</td>\n    </tr>\n    <tr>\n      <th>4</th>\n      <td>k403</td>\n      <td>Ramicane</td>\n      <td>Male</td>\n      <td>21</td>\n      <td>16</td>\n      <td>20</td>\n      <td>32.997729</td>\n      <td>1</td>\n    </tr>\n  </tbody>\n</table>\n</div>"
     },
     "metadata": {},
     "execution_count": 86
    }
   ],
   "source": [
    "# Display the data table for preview\n",
    "combined_data.head()"
   ]
  },
  {
   "cell_type": "code",
   "execution_count": 87,
   "metadata": {},
   "outputs": [
    {
     "output_type": "execute_result",
     "data": {
      "text/plain": [
       "Mouse ID  Drug Regimen  Sex     Age_months  Weight (g)  Timepoint  Tumor Volume (mm3)  Metastatic Sites\n",
       "g989      Propriva      Female  21          26          0          45.000000           0                   2\n",
       "z969      Naftisol      Male    9           30          45         73.867845           4                   1\n",
       "i334      Ramicane      Female  8           20          30         39.005554           1                   1\n",
       "i177      Ramicane      Male    10          18          20         35.345361           0                   1\n",
       "                                                        25         34.082180           1                   1\n",
       "                                                                                                          ..\n",
       "q610      Ramicane      Female  18          21          25         40.146450           0                   1\n",
       "                                                        30         40.668343           1                   1\n",
       "                                                        35         36.561652           2                   1\n",
       "q633      Zoniferol     Male    12          25          0          45.000000           0                   1\n",
       "a203      Infubinol     Female  20          23          0          45.000000           0                   1\n",
       "Length: 1892, dtype: int64"
      ]
     },
     "metadata": {},
     "execution_count": 87
    }
   ],
   "source": [
    "# Checking the number of mice.\n",
    "combined_data.value_counts()"
   ]
  },
  {
   "cell_type": "code",
   "execution_count": 88,
   "metadata": {},
   "outputs": [
    {
     "output_type": "execute_result",
     "data": {
      "text/plain": [
       "Mouse ID  Drug Regimen  Sex     Age_months  Weight (g)  Timepoint  Tumor Volume (mm3)  Metastatic Sites\n",
       "z969      Naftisol      Male    9           30          45         73.867845           4                   1\n",
       "i334      Ramicane      Female  8           20          30         39.005554           1                   1\n",
       "i177      Ramicane      Male    10          18          20         35.345361           0                   1\n",
       "                                                        25         34.082180           1                   1\n",
       "                                                        30         34.711473           1                   1\n",
       "                                                                                                          ..\n",
       "q610      Ramicane      Female  18          21          25         40.146450           0                   1\n",
       "                                                        30         40.668343           1                   1\n",
       "                                                        35         36.561652           2                   1\n",
       "q633      Zoniferol     Male    12          25          0          45.000000           0                   1\n",
       "a203      Infubinol     Female  20          23          0          45.000000           0                   1\n",
       "Length: 1892, dtype: int64"
      ]
     },
     "metadata": {},
     "execution_count": 88
    }
   ],
   "source": [
    "# Getting the duplicate mice by ID number that shows up for Mouse ID and Timepoint. \n",
    "\n",
    "combined_data_clean = combined_data.drop_duplicates()\n",
    "combined_data_clean.value_counts()"
   ]
  },
  {
   "cell_type": "code",
   "execution_count": 89,
   "metadata": {},
   "outputs": [
    {
     "output_type": "execute_result",
     "data": {
      "text/plain": [
       "    Mouse ID Drug Regimen     Sex  Age_months  Weight (g)  Timepoint  \\\n",
       "908     g989     Propriva  Female          21          26          0   \n",
       "909     g989     Propriva  Female          21          26          0   \n",
       "\n",
       "     Tumor Volume (mm3)  Metastatic Sites  \n",
       "908                45.0                 0  \n",
       "909                45.0                 0  "
      ],
      "text/html": "<div>\n<style scoped>\n    .dataframe tbody tr th:only-of-type {\n        vertical-align: middle;\n    }\n\n    .dataframe tbody tr th {\n        vertical-align: top;\n    }\n\n    .dataframe thead th {\n        text-align: right;\n    }\n</style>\n<table border=\"1\" class=\"dataframe\">\n  <thead>\n    <tr style=\"text-align: right;\">\n      <th></th>\n      <th>Mouse ID</th>\n      <th>Drug Regimen</th>\n      <th>Sex</th>\n      <th>Age_months</th>\n      <th>Weight (g)</th>\n      <th>Timepoint</th>\n      <th>Tumor Volume (mm3)</th>\n      <th>Metastatic Sites</th>\n    </tr>\n  </thead>\n  <tbody>\n    <tr>\n      <th>908</th>\n      <td>g989</td>\n      <td>Propriva</td>\n      <td>Female</td>\n      <td>21</td>\n      <td>26</td>\n      <td>0</td>\n      <td>45.0</td>\n      <td>0</td>\n    </tr>\n    <tr>\n      <th>909</th>\n      <td>g989</td>\n      <td>Propriva</td>\n      <td>Female</td>\n      <td>21</td>\n      <td>26</td>\n      <td>0</td>\n      <td>45.0</td>\n      <td>0</td>\n    </tr>\n  </tbody>\n</table>\n</div>"
     },
     "metadata": {},
     "execution_count": 89
    }
   ],
   "source": [
    "# Optional: Get all the data for the duplicate mouse ID. \n",
    "duplicate_data_g898 = combined_data.loc[(combined_data['Mouse ID']== 'g989')& (combined_data['Timepoint']==0)]\n",
    "duplicate_data_g898"
   ]
  },
  {
   "cell_type": "code",
   "execution_count": 90,
   "metadata": {},
   "outputs": [
    {
     "output_type": "execute_result",
     "data": {
      "text/plain": [
       "  Mouse ID Drug Regimen   Sex  Age_months  Weight (g)  Timepoint  \\\n",
       "0     k403     Ramicane  Male          21          16          0   \n",
       "1     k403     Ramicane  Male          21          16          5   \n",
       "2     k403     Ramicane  Male          21          16         10   \n",
       "3     k403     Ramicane  Male          21          16         15   \n",
       "4     k403     Ramicane  Male          21          16         20   \n",
       "\n",
       "   Tumor Volume (mm3)  Metastatic Sites  \n",
       "0           45.000000                 0  \n",
       "1           38.825898                 0  \n",
       "2           35.014271                 1  \n",
       "3           34.223992                 1  \n",
       "4           32.997729                 1  "
      ],
      "text/html": "<div>\n<style scoped>\n    .dataframe tbody tr th:only-of-type {\n        vertical-align: middle;\n    }\n\n    .dataframe tbody tr th {\n        vertical-align: top;\n    }\n\n    .dataframe thead th {\n        text-align: right;\n    }\n</style>\n<table border=\"1\" class=\"dataframe\">\n  <thead>\n    <tr style=\"text-align: right;\">\n      <th></th>\n      <th>Mouse ID</th>\n      <th>Drug Regimen</th>\n      <th>Sex</th>\n      <th>Age_months</th>\n      <th>Weight (g)</th>\n      <th>Timepoint</th>\n      <th>Tumor Volume (mm3)</th>\n      <th>Metastatic Sites</th>\n    </tr>\n  </thead>\n  <tbody>\n    <tr>\n      <th>0</th>\n      <td>k403</td>\n      <td>Ramicane</td>\n      <td>Male</td>\n      <td>21</td>\n      <td>16</td>\n      <td>0</td>\n      <td>45.000000</td>\n      <td>0</td>\n    </tr>\n    <tr>\n      <th>1</th>\n      <td>k403</td>\n      <td>Ramicane</td>\n      <td>Male</td>\n      <td>21</td>\n      <td>16</td>\n      <td>5</td>\n      <td>38.825898</td>\n      <td>0</td>\n    </tr>\n    <tr>\n      <th>2</th>\n      <td>k403</td>\n      <td>Ramicane</td>\n      <td>Male</td>\n      <td>21</td>\n      <td>16</td>\n      <td>10</td>\n      <td>35.014271</td>\n      <td>1</td>\n    </tr>\n    <tr>\n      <th>3</th>\n      <td>k403</td>\n      <td>Ramicane</td>\n      <td>Male</td>\n      <td>21</td>\n      <td>16</td>\n      <td>15</td>\n      <td>34.223992</td>\n      <td>1</td>\n    </tr>\n    <tr>\n      <th>4</th>\n      <td>k403</td>\n      <td>Ramicane</td>\n      <td>Male</td>\n      <td>21</td>\n      <td>16</td>\n      <td>20</td>\n      <td>32.997729</td>\n      <td>1</td>\n    </tr>\n  </tbody>\n</table>\n</div>"
     },
     "metadata": {},
     "execution_count": 90
    }
   ],
   "source": [
    "# Create a clean DataFrame by dropping the duplicate mouse by its ID.\n",
    "combined_data_clean.head()"
   ]
  },
  {
   "cell_type": "code",
   "execution_count": 91,
   "metadata": {},
   "outputs": [
    {
     "output_type": "execute_result",
     "data": {
      "text/plain": [
       "249"
      ]
     },
     "metadata": {},
     "execution_count": 91
    }
   ],
   "source": [
    "# Checking the number of mice in the clean DataFrame.\n",
    "combined_data_clean['Mouse ID'].nunique()"
   ]
  },
  {
   "cell_type": "markdown",
   "metadata": {},
   "source": [
    "## Summary Statistics"
   ]
  },
  {
   "cell_type": "code",
   "execution_count": 92,
   "metadata": {},
   "outputs": [
    {
     "output_type": "execute_result",
     "data": {
      "text/plain": [
       "  Drug Regimen    Mean  Median Variance Standard Deviation    SEM\n",
       "0    Capomulin  40.676  41.558   24.948              4.995  0.329\n",
       "1     Ceftamin  52.591  51.776   39.290              6.268  0.470\n",
       "2    Infubinol  52.885  51.821   43.129              6.567  0.492\n",
       "3     Ketapril  55.236  53.699   68.554              8.280  0.604\n",
       "4     Naftisol  54.332  52.509   66.173              8.135  0.596\n",
       "5      Placebo  54.034  52.289   61.168              7.821  0.581\n",
       "6     Propriva  52.368  50.910   42.278              6.502  0.514\n",
       "7     Ramicane  40.217  40.673   23.487              4.846  0.321\n",
       "8     Stelasyn  54.233  52.432   59.451              7.710  0.573\n",
       "9    Zoniferol  53.237  51.818   48.533              6.967  0.516"
      ],
      "text/html": "<div>\n<style scoped>\n    .dataframe tbody tr th:only-of-type {\n        vertical-align: middle;\n    }\n\n    .dataframe tbody tr th {\n        vertical-align: top;\n    }\n\n    .dataframe thead th {\n        text-align: right;\n    }\n</style>\n<table border=\"1\" class=\"dataframe\">\n  <thead>\n    <tr style=\"text-align: right;\">\n      <th></th>\n      <th>Drug Regimen</th>\n      <th>Mean</th>\n      <th>Median</th>\n      <th>Variance</th>\n      <th>Standard Deviation</th>\n      <th>SEM</th>\n    </tr>\n  </thead>\n  <tbody>\n    <tr>\n      <th>0</th>\n      <td>Capomulin</td>\n      <td>40.676</td>\n      <td>41.558</td>\n      <td>24.948</td>\n      <td>4.995</td>\n      <td>0.329</td>\n    </tr>\n    <tr>\n      <th>1</th>\n      <td>Ceftamin</td>\n      <td>52.591</td>\n      <td>51.776</td>\n      <td>39.290</td>\n      <td>6.268</td>\n      <td>0.470</td>\n    </tr>\n    <tr>\n      <th>2</th>\n      <td>Infubinol</td>\n      <td>52.885</td>\n      <td>51.821</td>\n      <td>43.129</td>\n      <td>6.567</td>\n      <td>0.492</td>\n    </tr>\n    <tr>\n      <th>3</th>\n      <td>Ketapril</td>\n      <td>55.236</td>\n      <td>53.699</td>\n      <td>68.554</td>\n      <td>8.280</td>\n      <td>0.604</td>\n    </tr>\n    <tr>\n      <th>4</th>\n      <td>Naftisol</td>\n      <td>54.332</td>\n      <td>52.509</td>\n      <td>66.173</td>\n      <td>8.135</td>\n      <td>0.596</td>\n    </tr>\n    <tr>\n      <th>5</th>\n      <td>Placebo</td>\n      <td>54.034</td>\n      <td>52.289</td>\n      <td>61.168</td>\n      <td>7.821</td>\n      <td>0.581</td>\n    </tr>\n    <tr>\n      <th>6</th>\n      <td>Propriva</td>\n      <td>52.368</td>\n      <td>50.910</td>\n      <td>42.278</td>\n      <td>6.502</td>\n      <td>0.514</td>\n    </tr>\n    <tr>\n      <th>7</th>\n      <td>Ramicane</td>\n      <td>40.217</td>\n      <td>40.673</td>\n      <td>23.487</td>\n      <td>4.846</td>\n      <td>0.321</td>\n    </tr>\n    <tr>\n      <th>8</th>\n      <td>Stelasyn</td>\n      <td>54.233</td>\n      <td>52.432</td>\n      <td>59.451</td>\n      <td>7.710</td>\n      <td>0.573</td>\n    </tr>\n    <tr>\n      <th>9</th>\n      <td>Zoniferol</td>\n      <td>53.237</td>\n      <td>51.818</td>\n      <td>48.533</td>\n      <td>6.967</td>\n      <td>0.516</td>\n    </tr>\n  </tbody>\n</table>\n</div>"
     },
     "metadata": {},
     "execution_count": 92
    }
   ],
   "source": [
    "# Generate a summary statistics table of mean, median, variance, standard deviation, and SEM of the tumor volume for each regimen\n",
    "# Use groupby and summary statistical methods to calculate the following properties of each drug regimen: \n",
    "# mean, median, variance, standard deviation, and SEM of the tumor volume. \n",
    "# Assemble the resulting series into a single summary dataframe.\n",
    "\n",
    "#Summary Table and Mean\n",
    "tumor_vol = combined_data_clean.copy()[['Mouse ID', 'Tumor Volume (mm3)', 'Drug Regimen']]\n",
    "tumor_vol_summary = tumor_vol.groupby('Drug Regimen').mean().reset_index()\n",
    "tumor_vol_summary = tumor_vol_summary.rename(columns={'Tumor Volume (mm3)': 'Mean'})\n",
    "#Median, then Merge to Summary Table\n",
    "tumor_vol_median = tumor_vol.groupby('Drug Regimen').median().reset_index()\n",
    "tumor_vol_median = tumor_vol_median.rename(columns={'Tumor Volume (mm3)': 'Median'})\n",
    "tumor_vol_summary = pd.merge(tumor_vol_summary, tumor_vol_median, on='Drug Regimen', how='left')\n",
    "#Variance, then Merge to Summary Table\n",
    "tumor_vol_var = tumor_vol.groupby('Drug Regimen').var().reset_index()\n",
    "tumor_vol_var = tumor_vol_var.rename(columns={'Tumor Volume (mm3)': 'Variance'})\n",
    "tumor_vol_summary = pd.merge(tumor_vol_summary, tumor_vol_var, on='Drug Regimen', how='left')\n",
    "#Standard deviation, then Merge to Summary Table\n",
    "tumor_vol_std = tumor_vol.groupby('Drug Regimen').std().reset_index()\n",
    "tumor_vol_std = tumor_vol_std.rename(columns={'Tumor Volume (mm3)': 'Standard Deviation'})\n",
    "tumor_vol_summary = pd.merge(tumor_vol_summary, tumor_vol_std, on='Drug Regimen', how='left')\n",
    "#SEM, then Merge to Summary Table\n",
    "tumor_vol_sem = tumor_vol.groupby('Drug Regimen').sem().reset_index()\n",
    "tumor_vol_sem = tumor_vol_sem.rename(columns={'Tumor Volume (mm3)': 'SEM'})\n",
    "tumor_vol_summary = pd.merge(tumor_vol_summary, tumor_vol_sem, on='Drug Regimen', how='left')\n",
    "\n",
    "#Formatting\n",
    "tumor_vol_summary['Mean'] = tumor_vol_summary['Mean'].map(\"{:.3f}\".format)\n",
    "tumor_vol_summary['Median'] = tumor_vol_summary['Median'].map(\"{:.3f}\".format)\n",
    "tumor_vol_summary['Variance'] = tumor_vol_summary['Variance'].map(\"{:.3f}\".format)\n",
    "tumor_vol_summary['Standard Deviation'] = tumor_vol_summary['Standard Deviation'].map(\"{:.3f}\".format)\n",
    "tumor_vol_summary['SEM'] = tumor_vol_summary['SEM'].map(\"{:.3f}\".format)\n",
    "\n",
    "\n",
    "#Show Summary Table\n",
    "tumor_vol_summary"
   ]
  },
  {
   "cell_type": "code",
   "execution_count": 127,
   "metadata": {},
   "outputs": [
    {
     "output_type": "execute_result",
     "data": {
      "text/plain": [
       "  Drug Regimen    Mean  Median Variance Standard Deviation    SEM\n",
       "0    Capomulin  40.676  41.558   24.948              4.995  0.329\n",
       "1     Ceftamin  52.591  51.776   39.290              6.268  0.470\n",
       "2    Infubinol  52.885  51.821   43.129              6.567  0.492\n",
       "3     Ketapril  55.236  53.699   68.554              8.280  0.604\n",
       "4     Naftisol  54.332  52.509   66.173              8.135  0.596\n",
       "5      Placebo  54.034  52.289   61.168              7.821  0.581\n",
       "6     Propriva  52.368  50.910   42.278              6.502  0.514\n",
       "7     Ramicane  40.217  40.673   23.487              4.846  0.321\n",
       "8     Stelasyn  54.233  52.432   59.451              7.710  0.573\n",
       "9    Zoniferol  53.237  51.818   48.533              6.967  0.516"
      ],
      "text/html": "<div>\n<style scoped>\n    .dataframe tbody tr th:only-of-type {\n        vertical-align: middle;\n    }\n\n    .dataframe tbody tr th {\n        vertical-align: top;\n    }\n\n    .dataframe thead th {\n        text-align: right;\n    }\n</style>\n<table border=\"1\" class=\"dataframe\">\n  <thead>\n    <tr style=\"text-align: right;\">\n      <th></th>\n      <th>Drug Regimen</th>\n      <th>Mean</th>\n      <th>Median</th>\n      <th>Variance</th>\n      <th>Standard Deviation</th>\n      <th>SEM</th>\n    </tr>\n  </thead>\n  <tbody>\n    <tr>\n      <th>0</th>\n      <td>Capomulin</td>\n      <td>40.676</td>\n      <td>41.558</td>\n      <td>24.948</td>\n      <td>4.995</td>\n      <td>0.329</td>\n    </tr>\n    <tr>\n      <th>1</th>\n      <td>Ceftamin</td>\n      <td>52.591</td>\n      <td>51.776</td>\n      <td>39.290</td>\n      <td>6.268</td>\n      <td>0.470</td>\n    </tr>\n    <tr>\n      <th>2</th>\n      <td>Infubinol</td>\n      <td>52.885</td>\n      <td>51.821</td>\n      <td>43.129</td>\n      <td>6.567</td>\n      <td>0.492</td>\n    </tr>\n    <tr>\n      <th>3</th>\n      <td>Ketapril</td>\n      <td>55.236</td>\n      <td>53.699</td>\n      <td>68.554</td>\n      <td>8.280</td>\n      <td>0.604</td>\n    </tr>\n    <tr>\n      <th>4</th>\n      <td>Naftisol</td>\n      <td>54.332</td>\n      <td>52.509</td>\n      <td>66.173</td>\n      <td>8.135</td>\n      <td>0.596</td>\n    </tr>\n    <tr>\n      <th>5</th>\n      <td>Placebo</td>\n      <td>54.034</td>\n      <td>52.289</td>\n      <td>61.168</td>\n      <td>7.821</td>\n      <td>0.581</td>\n    </tr>\n    <tr>\n      <th>6</th>\n      <td>Propriva</td>\n      <td>52.368</td>\n      <td>50.910</td>\n      <td>42.278</td>\n      <td>6.502</td>\n      <td>0.514</td>\n    </tr>\n    <tr>\n      <th>7</th>\n      <td>Ramicane</td>\n      <td>40.217</td>\n      <td>40.673</td>\n      <td>23.487</td>\n      <td>4.846</td>\n      <td>0.321</td>\n    </tr>\n    <tr>\n      <th>8</th>\n      <td>Stelasyn</td>\n      <td>54.233</td>\n      <td>52.432</td>\n      <td>59.451</td>\n      <td>7.710</td>\n      <td>0.573</td>\n    </tr>\n    <tr>\n      <th>9</th>\n      <td>Zoniferol</td>\n      <td>53.237</td>\n      <td>51.818</td>\n      <td>48.533</td>\n      <td>6.967</td>\n      <td>0.516</td>\n    </tr>\n  </tbody>\n</table>\n</div>"
     },
     "metadata": {},
     "execution_count": 127
    }
   ],
   "source": [
    "# Generate a summary statistics table of mean, median, variance, standard deviation, and SEM of the tumor volume for each regimen\n",
    "tumor_vol_summary_2 = tumor_vol.groupby('Drug Regimen')\n",
    "# Using the aggregation method, produce the same summary statistics in a single line\n",
    "tumor_vol_summary_2 = tumor_vol_summary_2.agg(['mean', 'median', 'var', 'std', 'sem'], axis='columns').reset_index()\n",
    "tumor_vol_summary_2.columns = tumor_vol_summary_2.columns.droplevel()\n",
    "#formatting and rename\n",
    "tumor_vol_summary_2['mean'] = tumor_vol_summary_2['mean'].map(\"{:.3f}\".format)\n",
    "tumor_vol_summary_2['median'] = tumor_vol_summary_2['median'].map(\"{:.3f}\".format)\n",
    "tumor_vol_summary_2['var'] = tumor_vol_summary_2['var'].map(\"{:.3f}\".format)\n",
    "tumor_vol_summary_2['std'] = tumor_vol_summary_2['std'].map(\"{:.3f}\".format)\n",
    "tumor_vol_summary_2['sem'] = tumor_vol_summary_2['sem'].map(\"{:.3f}\".format)\n",
    "\n",
    "tumor_vol_summary_2 = tumor_vol_summary_2.rename(columns={'':'Drug Regimen', 'mean':'Mean', 'median':'Median', 'var':'Variance', 'std':'Standard Deviation', 'sem': 'SEM'})\n",
    "\n",
    "\n",
    "\n",
    "tumor_vol_summary_2"
   ]
  },
  {
   "cell_type": "markdown",
   "metadata": {},
   "source": [
    "## Bar and Pie Charts"
   ]
  },
  {
   "cell_type": "code",
   "execution_count": null,
   "metadata": {},
   "outputs": [],
   "source": [
    "# Generate a bar plot showing the total number of unique mice tested on each drug regimen using pandas.\n",
    "\n"
   ]
  },
  {
   "cell_type": "code",
   "execution_count": null,
   "metadata": {},
   "outputs": [],
   "source": [
    "# Generate a bar plot showing the total number of unique mice tested on each drug regimen using pyplot.\n",
    "\n"
   ]
  },
  {
   "cell_type": "code",
   "execution_count": null,
   "metadata": {},
   "outputs": [],
   "source": [
    "# Generate a pie plot showing the distribution of female versus male mice using pandas\n",
    "\n"
   ]
  },
  {
   "cell_type": "code",
   "execution_count": null,
   "metadata": {},
   "outputs": [],
   "source": [
    "# Generate a pie plot showing the distribution of female versus male mice using pyplot\n",
    "\n"
   ]
  },
  {
   "cell_type": "markdown",
   "metadata": {},
   "source": [
    "## Quartiles, Outliers and Boxplots"
   ]
  },
  {
   "cell_type": "code",
   "execution_count": null,
   "metadata": {},
   "outputs": [],
   "source": [
    "# Calculate the final tumor volume of each mouse across four of the treatment regimens:  \n",
    "# Capomulin, Ramicane, Infubinol, and Ceftamin\n",
    "\n",
    "# Start by getting the last (greatest) timepoint for each mouse\n",
    "\n",
    "\n",
    "# Merge this group df with the original dataframe to get the tumor volume at the last timepoint\n"
   ]
  },
  {
   "cell_type": "code",
   "execution_count": null,
   "metadata": {},
   "outputs": [],
   "source": [
    "# Put treatments into a list for for loop (and later for plot labels)\n",
    "\n",
    "\n",
    "# Create empty list to fill with tumor vol data (for plotting)\n",
    "\n",
    "\n",
    "# Calculate the IQR and quantitatively determine if there are any potential outliers. \n",
    "\n",
    "    \n",
    "    # Locate the rows which contain mice on each drug and get the tumor volumes\n",
    "    \n",
    "    \n",
    "    # add subset \n",
    "    \n",
    "    \n",
    "    # Determine outliers using upper and lower bounds\n",
    "    "
   ]
  },
  {
   "cell_type": "code",
   "execution_count": null,
   "metadata": {},
   "outputs": [],
   "source": [
    "# Generate a box plot of the final tumor volume of each mouse across four regimens of interest\n"
   ]
  },
  {
   "cell_type": "markdown",
   "metadata": {},
   "source": [
    "## Line and Scatter Plots"
   ]
  },
  {
   "cell_type": "code",
   "execution_count": null,
   "metadata": {},
   "outputs": [],
   "source": [
    "# Generate a line plot of tumor volume vs. time point for a mouse treated with Capomulin\n"
   ]
  },
  {
   "cell_type": "code",
   "execution_count": null,
   "metadata": {},
   "outputs": [],
   "source": [
    "# Generate a scatter plot of average tumor volume vs. mouse weight for the Capomulin regimen\n"
   ]
  },
  {
   "cell_type": "markdown",
   "metadata": {},
   "source": [
    "## Correlation and Regression"
   ]
  },
  {
   "cell_type": "code",
   "execution_count": null,
   "metadata": {},
   "outputs": [],
   "source": [
    "# Calculate the correlation coefficient and linear regression model \n",
    "# for mouse weight and average tumor volume for the Capomulin regimen\n"
   ]
  },
  {
   "cell_type": "code",
   "execution_count": null,
   "metadata": {},
   "outputs": [],
   "source": []
  }
 ],
 "metadata": {
  "anaconda-cloud": {},
  "kernelspec": {
   "display_name": "Python 3",
   "language": "python",
   "name": "python3"
  },
  "language_info": {
   "codemirror_mode": {
    "name": "ipython",
    "version": 3
   },
   "file_extension": ".py",
   "mimetype": "text/x-python",
   "name": "python",
   "nbconvert_exporter": "python",
   "pygments_lexer": "ipython3",
   "version": "3.8.5-final"
  }
 },
 "nbformat": 4,
 "nbformat_minor": 4
}